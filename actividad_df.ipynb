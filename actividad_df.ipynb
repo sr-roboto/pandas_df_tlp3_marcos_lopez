{
 "cells": [
  {
   "cell_type": "markdown",
   "id": "12ad2501",
   "metadata": {},
   "source": [
    "# Actividad - Trabajando con DataFrames de Pandas.\n",
    "## Criterios de evaluación.\n",
    "\n",
    "* Se deben utilizar nombres de variables descriptivos y claros (Utilizar la nomeclatura correspondiente para los nombres de variables).\n",
    "* Comentarios claros y concisos que expliquen el propósito de cada sección del código.\n",
    "* Utilizar mensajes de commit **descriptivos**. (Puedes utilizar la extension CONVENTIONAL COMMIT de VS-CODE). \n",
    "* Entrega en tiempo y forma.\n",
    "* Todo el código desarrollado debe ser subido a un repositorio en GitHub (el nombre del repositorio de seguir la siguiente estructura: pandas_df_tlp3_nombre_apellido).\n",
    "* Para resolver las actividades se debe insertar casillas de codigo entre cada actividad del cuaderno de Jupyter\n",
    "* Deben trabajar con el datasets adjunto a la actividad\n",
    "\n",
    "### ¡Importante!\n",
    "**El incumplimiento de los criterios de evaluación restará puntos en la nota final del práctico!**"
   ]
  },
  {
   "cell_type": "code",
   "execution_count": 3,
   "id": "afc60e66",
   "metadata": {},
   "outputs": [],
   "source": [
    "import pandas as pd\n",
    "import sqlite3\n",
    "\n",
    "#Aqui agrega la conexión a la base de datos\n",
    "conn = sqlite3.connect('./Salaries.sqlite')\n",
    "\n",
    "#Crea el dataframe con los datos del datasets\n",
    "df = pd.read_sql_query(\"SELECT * FROM Salaries\", conn)\n",
    "conn.close()"
   ]
  },
  {
   "cell_type": "markdown",
   "id": "b993b225",
   "metadata": {},
   "source": [
    "1. **Top 10 empleados con mayor salario total (incluyendo beneficios)**\n",
    "Extrae e imprime un top 10 de expleados con mayor salario incluyendo los beneficios \n"
   ]
  },
  {
   "cell_type": "code",
   "execution_count": null,
   "id": "135f2471",
   "metadata": {},
   "outputs": [],
   "source": [
    "#todo"
   ]
  },
  {
   "cell_type": "markdown",
   "id": "fd03ce6c",
   "metadata": {},
   "source": [
    "2. **Filtrar empleados con más de 50,000 en horas extra, la columna a tratar es: (OvertimePay)**"
   ]
  },
  {
   "cell_type": "code",
   "execution_count": null,
   "id": "c5dc65c7",
   "metadata": {},
   "outputs": [],
   "source": [
    "#todo"
   ]
  },
  {
   "cell_type": "markdown",
   "id": "518b4eab",
   "metadata": {},
   "source": [
    "3. **Contar cuántos empleados únicos hay por año**"
   ]
  },
  {
   "cell_type": "code",
   "execution_count": null,
   "id": "e35c5908",
   "metadata": {},
   "outputs": [],
   "source": [
    "#todo"
   ]
  },
  {
   "cell_type": "markdown",
   "id": "9105e992",
   "metadata": {},
   "source": [
    "4. **Ver cuántos cargos únicos (JobTitle) existen y los 5 más comunes**"
   ]
  },
  {
   "cell_type": "code",
   "execution_count": null,
   "id": "e388d537",
   "metadata": {},
   "outputs": [],
   "source": [
    "#todo"
   ]
  },
  {
   "cell_type": "markdown",
   "id": "b34c7043",
   "metadata": {},
   "source": [
    "5. **Mostrar el salario total (TotalPay) promedio por año**"
   ]
  },
  {
   "cell_type": "code",
   "execution_count": null,
   "id": "64d765f0",
   "metadata": {},
   "outputs": [],
   "source": [
    "#todo"
   ]
  },
  {
   "cell_type": "markdown",
   "id": "cd1d7071",
   "metadata": {},
   "source": [
    "6. **Exporta todos los datos a un CSV y muestra los ultimos 10 valores**"
   ]
  },
  {
   "cell_type": "code",
   "execution_count": null,
   "id": "1f27e45c",
   "metadata": {},
   "outputs": [],
   "source": [
    "#todo"
   ]
  }
 ],
 "metadata": {
  "kernelspec": {
   "display_name": ".env",
   "language": "python",
   "name": "python3"
  },
  "language_info": {
   "codemirror_mode": {
    "name": "ipython",
    "version": 3
   },
   "file_extension": ".py",
   "mimetype": "text/x-python",
   "name": "python",
   "nbconvert_exporter": "python",
   "pygments_lexer": "ipython3",
   "version": "3.13.3"
  }
 },
 "nbformat": 4,
 "nbformat_minor": 5
}
